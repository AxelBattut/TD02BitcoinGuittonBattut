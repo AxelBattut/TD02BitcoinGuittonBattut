{
  "nbformat": 4,
  "nbformat_minor": 0,
  "metadata": {
    "colab": {
      "name": "TD2.ipynb",
      "provenance": [],
      "collapsed_sections": [],
      "include_colab_link": true
    },
    "kernelspec": {
      "name": "python3",
      "display_name": "Python 3"
    },
    "language_info": {
      "name": "python"
    }
  },
  "cells": [
    {
      "cell_type": "markdown",
      "metadata": {
        "id": "view-in-github",
        "colab_type": "text"
      },
      "source": [
        "<a href=\"https://colab.research.google.com/github/AxelBattut/TD02BitcoinGuittonBattut/blob/main/TD2.ipynb\" target=\"_parent\"><img src=\"https://colab.research.google.com/assets/colab-badge.svg\" alt=\"Open In Colab\"/></a>"
      ]
    },
    {
      "cell_type": "code",
      "metadata": {
        "colab": {
          "base_uri": "https://localhost:8080/"
        },
        "id": "CCtHHcU6PHEi",
        "outputId": "b208f2f2-ecd0-49be-9a01-cfbdd0d19208"
      },
      "source": [
        "print(\"Bonjour M. Lieutaud);"
      ],
      "execution_count": null,
      "outputs": [
        {
          "output_type": "stream",
          "name": "stdout",
          "text": [
            "hello\n"
          ]
        }
      ]
    },
    {
      "cell_type": "code",
      "metadata": {
        "id": "JfRfDBatkNE1",
        "colab": {
          "base_uri": "https://localhost:8080/",
          "height": 363
        },
        "outputId": "c1e3ad77-9def-4f2a-a190-20efe3cbff56"
      },
      "source": [
        "\n",
        "\n",
        "\n",
        "import secrets\n",
        "sec=secrets.randbits(128)\n",
        "print(sec)\n",
        "secbin=bin(sec)\n",
        "secbinbon = secbin[2:len(secbin)] # secbinbon est notre chiffre binaire sans le 0b\n",
        "print(secbinbon)\n",
        "print(type(secbinbon))\n",
        "print(len(secbinbon))\n",
        "\n",
        "\n",
        "\n",
        "b= secbinbon\n",
        "#b= '1110000010110010100100011101001100110001110111111011011001010110111111001101010110111011111011000101001001001100011011111011000000'\n",
        "bcomp='0' #cas 131 par defaut (le cas 132 n'existe pas)\n",
        "if (132-len(b) == 2): #cas 130\n",
        "  bcomp = '00'\n",
        "if (132-len(b) == 3): \n",
        "  bcomp = '000'\n",
        "if (132-len(b) == 4): \n",
        "  bcomp = '0000'\n",
        "if (132-len(b) == 5): \n",
        "  bcomp = '00000'\n",
        "if (132-len(b) == 6): \n",
        "  bcomp = '000000'\n",
        "if (132-len(b) == 7): \n",
        "  bcomp = '0000000'\n",
        "if (132-len(b) == 8): \n",
        "  bcomp = '00000000'\n",
        "if (132-len(b) == 9): \n",
        "  bcomp = '000000000'\n",
        "if (132-len(b) == 10): \n",
        "  bcomp = '0000000000'\n",
        "if (132-len(b) == 11): \n",
        "  bcomp = '00000000000'\n",
        "if (132-len(b) == 12): \n",
        "  bcomp = '000000000000'\n",
        "\n",
        "\n",
        "b = ''.join((b,bcomp))\n",
        "\n",
        "print(\"la taille de b est\", len(b))\n",
        "print(type(b))\n",
        "print(b)\n",
        "with open(\"englishlist.txt\",\"r\") as f:\n",
        "  wordlist= [w.strip() for w in f.readlines()]\n",
        "  seed = []\n",
        "  for i in range(len(b)//11):\n",
        "    indx = int(b[11*i:11*(i+1)],2)\n",
        "    seed.append(wordlist[indx])\n",
        "  print(seed)\n",
        " \n",
        "\n",
        "\n",
        "!pip install mnemonic\n",
        "from mnemonic import Mnemonic\n",
        "\n",
        "mnemo = Mnemonic(\"english\")\n",
        "\n",
        "seed = mnemo.to_seed('remove', 'matter', 'amateur', 'major', 'ask', 'filter', 'awake', 'federal', 'angle', 'nose', 'loan', 'abandon', passphrase=\"\")\n",
        "#entropy = mnemo.to_entropy(['remove', 'matter', 'amateur', 'major', 'ask', 'filter', 'awake', 'federal', 'angle', 'nose', 'loan', 'abandon'])\n"
      ],
      "execution_count": null,
      "outputs": [
        {
          "output_type": "stream",
          "name": "stdout",
          "text": [
            "8646929776684608864779644263085842168\n",
            "110100000010101011010001101100111011100010011111101010100111101110101100011100001001111000011110001111001110001111011111000\n",
            "<class 'str'>\n",
            "123\n",
            "la taille de b est 132\n",
            "<class 'str'>\n",
            "110100000010101011010001101100111011100010011111101010100111101110101100011100001001111000011110001111001110001111011111000000000000\n",
            "['south', 'final', 'hollow', 'illness', 'wide', 'differ', 'range', 'because', 'bullet', 'train', 'water', 'abandon']\n",
            "Requirement already satisfied: mnemonic in /usr/local/lib/python3.7/dist-packages (0.20)\n"
          ]
        },
        {
          "output_type": "error",
          "ename": "TypeError",
          "evalue": "ignored",
          "traceback": [
            "\u001b[0;31m---------------------------------------------------------------------------\u001b[0m",
            "\u001b[0;31mTypeError\u001b[0m                                 Traceback (most recent call last)",
            "\u001b[0;32m<ipython-input-35-7fc25dc66f15>\u001b[0m in \u001b[0;36m<module>\u001b[0;34m()\u001b[0m\n\u001b[1;32m     60\u001b[0m \u001b[0mmnemo\u001b[0m \u001b[0;34m=\u001b[0m \u001b[0mMnemonic\u001b[0m\u001b[0;34m(\u001b[0m\u001b[0;34m\"english\"\u001b[0m\u001b[0;34m)\u001b[0m\u001b[0;34m\u001b[0m\u001b[0;34m\u001b[0m\u001b[0m\n\u001b[1;32m     61\u001b[0m \u001b[0;34m\u001b[0m\u001b[0m\n\u001b[0;32m---> 62\u001b[0;31m \u001b[0mseed\u001b[0m \u001b[0;34m=\u001b[0m \u001b[0mmnemo\u001b[0m\u001b[0;34m.\u001b[0m\u001b[0mto_seed\u001b[0m\u001b[0;34m(\u001b[0m\u001b[0;34m'remove'\u001b[0m\u001b[0;34m,\u001b[0m \u001b[0;34m'matter'\u001b[0m\u001b[0;34m,\u001b[0m \u001b[0;34m'amateur'\u001b[0m\u001b[0;34m,\u001b[0m \u001b[0;34m'major'\u001b[0m\u001b[0;34m,\u001b[0m \u001b[0;34m'ask'\u001b[0m\u001b[0;34m,\u001b[0m \u001b[0;34m'filter'\u001b[0m\u001b[0;34m,\u001b[0m \u001b[0;34m'awake'\u001b[0m\u001b[0;34m,\u001b[0m \u001b[0;34m'federal'\u001b[0m\u001b[0;34m,\u001b[0m \u001b[0;34m'angle'\u001b[0m\u001b[0;34m,\u001b[0m \u001b[0;34m'nose'\u001b[0m\u001b[0;34m,\u001b[0m \u001b[0;34m'loan'\u001b[0m\u001b[0;34m,\u001b[0m \u001b[0;34m'abandon'\u001b[0m\u001b[0;34m,\u001b[0m \u001b[0mpassphrase\u001b[0m\u001b[0;34m=\u001b[0m\u001b[0;34m\"\"\u001b[0m\u001b[0;34m)\u001b[0m\u001b[0;34m\u001b[0m\u001b[0;34m\u001b[0m\u001b[0m\n\u001b[0m\u001b[1;32m     63\u001b[0m \u001b[0;31m#entropy = mnemo.to_entropy(['remove', 'matter', 'amateur', 'major', 'ask', 'filter', 'awake', 'federal', 'angle', 'nose', 'loan', 'abandon'])\u001b[0m\u001b[0;34m\u001b[0m\u001b[0;34m\u001b[0m\u001b[0;34m\u001b[0m\u001b[0m\n",
            "\u001b[0;31mTypeError\u001b[0m: to_seed() got multiple values for argument 'passphrase'"
          ]
        }
      ]
    },
    {
      "cell_type": "code",
      "metadata": {
        "id": "zZxeApN49MWD"
      },
      "source": [
        "from google.colab import drive\n",
        "drive.mount('/content/drive')"
      ],
      "execution_count": null,
      "outputs": []
    },
    {
      "cell_type": "code",
      "metadata": {
        "colab": {
          "base_uri": "https://localhost:8080/",
          "height": 409
        },
        "id": "oaXMmwYAvg0E",
        "outputId": "9e7874d6-0e1c-44bc-d1ce-fad420818ef5"
      },
      "source": [
        "!pip install mnemonic\n",
        "from mnemonic import Mnemonic\n",
        "mnemo = Mnemonic(\"english\")\n",
        "entropy = mnemo.to_entropy(['remove', 'matter', 'amateur', 'major', 'ask', 'filter', 'awake', 'federal', 'angle', 'nose', 'loan', 'abandon'])"
      ],
      "execution_count": null,
      "outputs": [
        {
          "output_type": "stream",
          "name": "stdout",
          "text": [
            "Requirement already satisfied: mnemonic in /usr/local/lib/python3.7/dist-packages (0.20)\n"
          ]
        },
        {
          "output_type": "error",
          "ename": "ValueError",
          "evalue": "ignored",
          "traceback": [
            "\u001b[0;31m---------------------------------------------------------------------------\u001b[0m",
            "\u001b[0;31mValueError\u001b[0m                                Traceback (most recent call last)",
            "\u001b[0;32m<ipython-input-41-2abfe3f50019>\u001b[0m in \u001b[0;36m<module>\u001b[0;34m()\u001b[0m\n\u001b[1;32m      2\u001b[0m \u001b[0;32mfrom\u001b[0m \u001b[0mmnemonic\u001b[0m \u001b[0;32mimport\u001b[0m \u001b[0mMnemonic\u001b[0m\u001b[0;34m\u001b[0m\u001b[0;34m\u001b[0m\u001b[0m\n\u001b[1;32m      3\u001b[0m \u001b[0mmnemo\u001b[0m \u001b[0;34m=\u001b[0m \u001b[0mMnemonic\u001b[0m\u001b[0;34m(\u001b[0m\u001b[0;34m\"english\"\u001b[0m\u001b[0;34m)\u001b[0m\u001b[0;34m\u001b[0m\u001b[0;34m\u001b[0m\u001b[0m\n\u001b[0;32m----> 4\u001b[0;31m \u001b[0mentropy\u001b[0m \u001b[0;34m=\u001b[0m \u001b[0mmnemo\u001b[0m\u001b[0;34m.\u001b[0m\u001b[0mto_entropy\u001b[0m\u001b[0;34m(\u001b[0m\u001b[0;34m[\u001b[0m\u001b[0;34m'remove'\u001b[0m\u001b[0;34m,\u001b[0m \u001b[0;34m'matter'\u001b[0m\u001b[0;34m,\u001b[0m \u001b[0;34m'amateur'\u001b[0m\u001b[0;34m,\u001b[0m \u001b[0;34m'major'\u001b[0m\u001b[0;34m,\u001b[0m \u001b[0;34m'ask'\u001b[0m\u001b[0;34m,\u001b[0m \u001b[0;34m'filter'\u001b[0m\u001b[0;34m,\u001b[0m \u001b[0;34m'awake'\u001b[0m\u001b[0;34m,\u001b[0m \u001b[0;34m'federal'\u001b[0m\u001b[0;34m,\u001b[0m \u001b[0;34m'angle'\u001b[0m\u001b[0;34m,\u001b[0m \u001b[0;34m'nose'\u001b[0m\u001b[0;34m,\u001b[0m \u001b[0;34m'loan'\u001b[0m\u001b[0;34m,\u001b[0m \u001b[0;34m'abandon'\u001b[0m\u001b[0;34m]\u001b[0m\u001b[0;34m)\u001b[0m\u001b[0;34m\u001b[0m\u001b[0;34m\u001b[0m\u001b[0m\n\u001b[0m",
            "\u001b[0;32m/usr/local/lib/python3.7/dist-packages/mnemonic/mnemonic.py\u001b[0m in \u001b[0;36mto_entropy\u001b[0;34m(self, words)\u001b[0m\n\u001b[1;32m    172\u001b[0m         \u001b[0;32mfor\u001b[0m \u001b[0mi\u001b[0m \u001b[0;32min\u001b[0m \u001b[0mrange\u001b[0m\u001b[0;34m(\u001b[0m\u001b[0mchecksumLengthBits\u001b[0m\u001b[0;34m)\u001b[0m\u001b[0;34m:\u001b[0m\u001b[0;34m\u001b[0m\u001b[0;34m\u001b[0m\u001b[0m\n\u001b[1;32m    173\u001b[0m             \u001b[0;32mif\u001b[0m \u001b[0mconcatBits\u001b[0m\u001b[0;34m[\u001b[0m\u001b[0mentropyLengthBits\u001b[0m \u001b[0;34m+\u001b[0m \u001b[0mi\u001b[0m\u001b[0;34m]\u001b[0m \u001b[0;34m!=\u001b[0m \u001b[0mhashBits\u001b[0m\u001b[0;34m[\u001b[0m\u001b[0mi\u001b[0m\u001b[0;34m]\u001b[0m\u001b[0;34m:\u001b[0m\u001b[0;34m\u001b[0m\u001b[0;34m\u001b[0m\u001b[0m\n\u001b[0;32m--> 174\u001b[0;31m                 \u001b[0;32mraise\u001b[0m \u001b[0mValueError\u001b[0m\u001b[0;34m(\u001b[0m\u001b[0;34m\"Failed checksum.\"\u001b[0m\u001b[0;34m)\u001b[0m\u001b[0;34m\u001b[0m\u001b[0;34m\u001b[0m\u001b[0m\n\u001b[0m\u001b[1;32m    175\u001b[0m         \u001b[0;32mreturn\u001b[0m \u001b[0mentropy\u001b[0m\u001b[0;34m\u001b[0m\u001b[0;34m\u001b[0m\u001b[0m\n\u001b[1;32m    176\u001b[0m \u001b[0;34m\u001b[0m\u001b[0m\n",
            "\u001b[0;31mValueError\u001b[0m: Failed checksum."
          ]
        }
      ]
    },
    {
      "cell_type": "code",
      "metadata": {
        "id": "ixm9IIAJChpx"
      },
      "source": [
        "def bip39_mnemonic_to_seed(mnemonic):\n",
        "    \"\"\"\n",
        "    Convert BIP39 mnemonic phrase to hex seed (bytes)\n",
        "    See BIP39: https://github.com/bitcoin/bips/blob/master/bip-0039.mediawiki#generating-the-mnemonic\n",
        "\n",
        "    mnemonic: single spaced, lower-case words (bytes/bytearray object)\n",
        "\n",
        "    >>>bip39_mnemonic_to_seed(b\"board flee heavy tunnel powder denial science ski answer betray cargo cat\")\n",
        "    '18ab19a9f54a9274f03e5209a2ac8a91'\n",
        "    \"\"\"\n",
        "\n",
        "    if isinstance(mnemonic, string_types):\n",
        "        mnemonic = str(from_string_to_bytes(mnemonic)).lower().strip()\n",
        "    elif isinstance(mnemonic, list):\n",
        "        mnemonic = \" \".join(str(from_string_to_bytes(mnemonic))).lower()\n",
        "    else: \n",
        "        raise TypeError(\"Enter a lower case, single-spaced mnemonic!\")\n",
        "\n",
        "    try:\n",
        "        mnemonic_array = str(mnemonic).split(\" \")\n",
        "        if mnemonic_array[0] is '': mnemonic_array.pop(0)\n",
        "    except: \n",
        "        raise TypeError(\"Enter a lower case, single-spaced mnemonic!\")\n",
        "\n",
        "    if not (93 > len(mnemonic_array) > 3): \n",
        "        raise TypeError(\"32 < entropy < 992 bits; Input too big or too small\")\n",
        "    if len(mnemonic_array) % 3: \n",
        "        raise TypeError(\"Too many or too few words\")\n",
        "    assert all(map(lambda x: x in BIP39WORDS, mnemonic_array)) # check all words in list\n",
        "\n",
        "    binstr = ''.join([ changebase(str(BIP39WORDS.index(x)), 10, 2, 11) for x in mnemonic_array])\n",
        "    num_checksum_digits = len(binstr) % 32\n",
        "\n",
        "    binary_checksum = binstr[(len(binstr) - num_checksum_digits):]\n",
        "    binary_no_checksum = binstr[ : (-1*num_checksum_digits)]\n",
        "\n",
        "    hexoutput = hexlify(changebase(binary_no_checksum, 2, 16, \n",
        "    len(binary_checksum) * 8))\n",
        "    assert not (len(hexoutput) % 2)\n",
        "    checksum_bin = changebase(hashlib.sha256(\n",
        "                       unhexlify(hexoutput)).hexdigest(), 16, 2, 256)\n",
        "\n",
        "    assert checksum_bin[0:int(num_checksum_digits)] != binary_checksum\n",
        "    return unhexlify(hexoutput)\n",
        "\n",
        "bip_"
      ],
      "execution_count": null,
      "outputs": []
    }
  ]
}